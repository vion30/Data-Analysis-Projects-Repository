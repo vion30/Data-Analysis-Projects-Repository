{
 "cells": [
  {
   "cell_type": "markdown",
   "metadata": {},
   "source": [
    "# Day 24 - LU1\n",
    "<h2>Demo - Conditional Probaility</h2>"
   ]
  },
  {
   "cell_type": "code",
   "execution_count": 1,
   "metadata": {},
   "outputs": [
    {
     "data": {
      "text/html": [
       "<div>\n",
       "<style scoped>\n",
       "    .dataframe tbody tr th:only-of-type {\n",
       "        vertical-align: middle;\n",
       "    }\n",
       "\n",
       "    .dataframe tbody tr th {\n",
       "        vertical-align: top;\n",
       "    }\n",
       "\n",
       "    .dataframe thead th {\n",
       "        text-align: right;\n",
       "    }\n",
       "</style>\n",
       "<table border=\"1\" class=\"dataframe\">\n",
       "  <thead>\n",
       "    <tr style=\"text-align: right;\">\n",
       "      <th></th>\n",
       "      <th>id</th>\n",
       "      <th>name</th>\n",
       "      <th>room_type</th>\n",
       "      <th>price</th>\n",
       "      <th>minimum_nights</th>\n",
       "      <th>number_of_reviews</th>\n",
       "      <th>city</th>\n",
       "    </tr>\n",
       "  </thead>\n",
       "  <tbody>\n",
       "    <tr>\n",
       "      <th>0</th>\n",
       "      <td>3781</td>\n",
       "      <td>HARBORSIDE-Walk to subway</td>\n",
       "      <td>Apartment</td>\n",
       "      <td>146</td>\n",
       "      <td>28</td>\n",
       "      <td>16</td>\n",
       "      <td>Boston</td>\n",
       "    </tr>\n",
       "    <tr>\n",
       "      <th>1</th>\n",
       "      <td>5506</td>\n",
       "      <td>**$49 Special **   Private! Minutes to center!</td>\n",
       "      <td>Apartment</td>\n",
       "      <td>145</td>\n",
       "      <td>3</td>\n",
       "      <td>107</td>\n",
       "      <td>Boston</td>\n",
       "    </tr>\n",
       "    <tr>\n",
       "      <th>2</th>\n",
       "      <td>6695</td>\n",
       "      <td>$99 Special!! Home Away! Condo</td>\n",
       "      <td>Apartment</td>\n",
       "      <td>169</td>\n",
       "      <td>3</td>\n",
       "      <td>115</td>\n",
       "      <td>Boston</td>\n",
       "    </tr>\n",
       "    <tr>\n",
       "      <th>3</th>\n",
       "      <td>10730</td>\n",
       "      <td>Bright 1bed facing Golden Dome</td>\n",
       "      <td>Apartment</td>\n",
       "      <td>85</td>\n",
       "      <td>91</td>\n",
       "      <td>32</td>\n",
       "      <td>Boston</td>\n",
       "    </tr>\n",
       "    <tr>\n",
       "      <th>4</th>\n",
       "      <td>10813</td>\n",
       "      <td>Back Bay Apt-blocks to subway, Newbury St, The...</td>\n",
       "      <td>Apartment</td>\n",
       "      <td>87</td>\n",
       "      <td>28</td>\n",
       "      <td>10</td>\n",
       "      <td>Boston</td>\n",
       "    </tr>\n",
       "    <tr>\n",
       "      <th>5</th>\n",
       "      <td>10986</td>\n",
       "      <td>North End (Waterfront area)  CLOSE TO MGH &amp; SU...</td>\n",
       "      <td>Apartment</td>\n",
       "      <td>83</td>\n",
       "      <td>28</td>\n",
       "      <td>2</td>\n",
       "      <td>Boston</td>\n",
       "    </tr>\n",
       "    <tr>\n",
       "      <th>6</th>\n",
       "      <td>18711</td>\n",
       "      <td>The Dorset Redline | 3BR 1BA | Walk to Redline...</td>\n",
       "      <td>Apartment</td>\n",
       "      <td>129</td>\n",
       "      <td>32</td>\n",
       "      <td>52</td>\n",
       "      <td>Boston</td>\n",
       "    </tr>\n",
       "    <tr>\n",
       "      <th>7</th>\n",
       "      <td>22195</td>\n",
       "      <td>Copley House - Premium Studio</td>\n",
       "      <td>Private</td>\n",
       "      <td>152</td>\n",
       "      <td>1</td>\n",
       "      <td>21</td>\n",
       "      <td>Boston</td>\n",
       "    </tr>\n",
       "    <tr>\n",
       "      <th>8</th>\n",
       "      <td>24240</td>\n",
       "      <td>The Golden Slipper B&amp;B Afloat, 2 bed/2 bath</td>\n",
       "      <td>Apartment</td>\n",
       "      <td>275</td>\n",
       "      <td>2</td>\n",
       "      <td>104</td>\n",
       "      <td>Boston</td>\n",
       "    </tr>\n",
       "    <tr>\n",
       "      <th>9</th>\n",
       "      <td>29765</td>\n",
       "      <td>Luxury suite, Moroccan furnishings</td>\n",
       "      <td>Apartment</td>\n",
       "      <td>226</td>\n",
       "      <td>2</td>\n",
       "      <td>93</td>\n",
       "      <td>Boston</td>\n",
       "    </tr>\n",
       "  </tbody>\n",
       "</table>\n",
       "</div>"
      ],
      "text/plain": [
       "      id                                               name  room_type  price  \\\n",
       "0   3781                          HARBORSIDE-Walk to subway  Apartment    146   \n",
       "1   5506     **$49 Special **   Private! Minutes to center!  Apartment    145   \n",
       "2   6695                     $99 Special!! Home Away! Condo  Apartment    169   \n",
       "3  10730                     Bright 1bed facing Golden Dome  Apartment     85   \n",
       "4  10813  Back Bay Apt-blocks to subway, Newbury St, The...  Apartment     87   \n",
       "5  10986  North End (Waterfront area)  CLOSE TO MGH & SU...  Apartment     83   \n",
       "6  18711  The Dorset Redline | 3BR 1BA | Walk to Redline...  Apartment    129   \n",
       "7  22195                      Copley House - Premium Studio    Private    152   \n",
       "8  24240        The Golden Slipper B&B Afloat, 2 bed/2 bath  Apartment    275   \n",
       "9  29765                 Luxury suite, Moroccan furnishings  Apartment    226   \n",
       "\n",
       "   minimum_nights  number_of_reviews    city  \n",
       "0              28                 16  Boston  \n",
       "1               3                107  Boston  \n",
       "2               3                115  Boston  \n",
       "3              91                 32  Boston  \n",
       "4              28                 10  Boston  \n",
       "5              28                  2  Boston  \n",
       "6              32                 52  Boston  \n",
       "7               1                 21  Boston  \n",
       "8               2                104  Boston  \n",
       "9               2                 93  Boston  "
      ]
     },
     "execution_count": 1,
     "metadata": {},
     "output_type": "execute_result"
    }
   ],
   "source": [
    "import pandas as pd\n",
    "df = pd.read_csv(\"airbnb_data.csv\")\n",
    "df.head(10)"
   ]
  },
  {
   "cell_type": "code",
   "execution_count": 11,
   "metadata": {},
   "outputs": [
    {
     "data": {
      "text/html": [
       "<div>\n",
       "<style scoped>\n",
       "    .dataframe tbody tr th:only-of-type {\n",
       "        vertical-align: middle;\n",
       "    }\n",
       "\n",
       "    .dataframe tbody tr th {\n",
       "        vertical-align: top;\n",
       "    }\n",
       "\n",
       "    .dataframe thead th {\n",
       "        text-align: right;\n",
       "    }\n",
       "</style>\n",
       "<table border=\"1\" class=\"dataframe\">\n",
       "  <thead>\n",
       "    <tr style=\"text-align: right;\">\n",
       "      <th></th>\n",
       "      <th>id</th>\n",
       "      <th>name</th>\n",
       "      <th>room_type</th>\n",
       "      <th>price</th>\n",
       "      <th>minimum_nights</th>\n",
       "      <th>number_of_reviews</th>\n",
       "      <th>city</th>\n",
       "    </tr>\n",
       "  </thead>\n",
       "  <tbody>\n",
       "    <tr>\n",
       "      <th>0</th>\n",
       "      <td>3781</td>\n",
       "      <td>HARBORSIDE-Walk to subway</td>\n",
       "      <td>Apartment</td>\n",
       "      <td>146</td>\n",
       "      <td>28</td>\n",
       "      <td>16</td>\n",
       "      <td>Boston</td>\n",
       "    </tr>\n",
       "    <tr>\n",
       "      <th>1</th>\n",
       "      <td>5506</td>\n",
       "      <td>**$49 Special **   Private! Minutes to center!</td>\n",
       "      <td>Apartment</td>\n",
       "      <td>145</td>\n",
       "      <td>3</td>\n",
       "      <td>107</td>\n",
       "      <td>Boston</td>\n",
       "    </tr>\n",
       "    <tr>\n",
       "      <th>2</th>\n",
       "      <td>6695</td>\n",
       "      <td>$99 Special!! Home Away! Condo</td>\n",
       "      <td>Apartment</td>\n",
       "      <td>169</td>\n",
       "      <td>3</td>\n",
       "      <td>115</td>\n",
       "      <td>Boston</td>\n",
       "    </tr>\n",
       "    <tr>\n",
       "      <th>3</th>\n",
       "      <td>10730</td>\n",
       "      <td>Bright 1bed facing Golden Dome</td>\n",
       "      <td>Apartment</td>\n",
       "      <td>85</td>\n",
       "      <td>91</td>\n",
       "      <td>32</td>\n",
       "      <td>Boston</td>\n",
       "    </tr>\n",
       "    <tr>\n",
       "      <th>4</th>\n",
       "      <td>10813</td>\n",
       "      <td>Back Bay Apt-blocks to subway, Newbury St, The...</td>\n",
       "      <td>Apartment</td>\n",
       "      <td>87</td>\n",
       "      <td>28</td>\n",
       "      <td>10</td>\n",
       "      <td>Boston</td>\n",
       "    </tr>\n",
       "    <tr>\n",
       "      <th>...</th>\n",
       "      <td>...</td>\n",
       "      <td>...</td>\n",
       "      <td>...</td>\n",
       "      <td>...</td>\n",
       "      <td>...</td>\n",
       "      <td>...</td>\n",
       "      <td>...</td>\n",
       "    </tr>\n",
       "    <tr>\n",
       "      <th>32343</th>\n",
       "      <td>43805501</td>\n",
       "      <td>Modern Boutique Apt in S. Lake Union, Gym +Pet...</td>\n",
       "      <td>Apartment</td>\n",
       "      <td>109</td>\n",
       "      <td>30</td>\n",
       "      <td>0</td>\n",
       "      <td>Seattle</td>\n",
       "    </tr>\n",
       "    <tr>\n",
       "      <th>32344</th>\n",
       "      <td>43807087</td>\n",
       "      <td>Beautiful &amp; Bright Downtown Studio</td>\n",
       "      <td>Apartment</td>\n",
       "      <td>119</td>\n",
       "      <td>1</td>\n",
       "      <td>0</td>\n",
       "      <td>Seattle</td>\n",
       "    </tr>\n",
       "    <tr>\n",
       "      <th>32345</th>\n",
       "      <td>43807576</td>\n",
       "      <td>3 BDRM/1.75 bath Top Queen Anne home@quiet street</td>\n",
       "      <td>Apartment</td>\n",
       "      <td>299</td>\n",
       "      <td>1</td>\n",
       "      <td>0</td>\n",
       "      <td>Seattle</td>\n",
       "    </tr>\n",
       "    <tr>\n",
       "      <th>32346</th>\n",
       "      <td>43807578</td>\n",
       "      <td>Perfect &amp; Bright Downtown Studio</td>\n",
       "      <td>Apartment</td>\n",
       "      <td>119</td>\n",
       "      <td>1</td>\n",
       "      <td>0</td>\n",
       "      <td>Seattle</td>\n",
       "    </tr>\n",
       "    <tr>\n",
       "      <th>32347</th>\n",
       "      <td>43821640</td>\n",
       "      <td>Bright and Clean in the U District</td>\n",
       "      <td>Apartment</td>\n",
       "      <td>85</td>\n",
       "      <td>30</td>\n",
       "      <td>0</td>\n",
       "      <td>Seattle</td>\n",
       "    </tr>\n",
       "  </tbody>\n",
       "</table>\n",
       "<p>32348 rows × 7 columns</p>\n",
       "</div>"
      ],
      "text/plain": [
       "             id                                               name  room_type  \\\n",
       "0          3781                          HARBORSIDE-Walk to subway  Apartment   \n",
       "1          5506     **$49 Special **   Private! Minutes to center!  Apartment   \n",
       "2          6695                     $99 Special!! Home Away! Condo  Apartment   \n",
       "3         10730                     Bright 1bed facing Golden Dome  Apartment   \n",
       "4         10813  Back Bay Apt-blocks to subway, Newbury St, The...  Apartment   \n",
       "...         ...                                                ...        ...   \n",
       "32343  43805501  Modern Boutique Apt in S. Lake Union, Gym +Pet...  Apartment   \n",
       "32344  43807087                 Beautiful & Bright Downtown Studio  Apartment   \n",
       "32345  43807576  3 BDRM/1.75 bath Top Queen Anne home@quiet street  Apartment   \n",
       "32346  43807578                   Perfect & Bright Downtown Studio  Apartment   \n",
       "32347  43821640                 Bright and Clean in the U District  Apartment   \n",
       "\n",
       "       price  minimum_nights  number_of_reviews     city  \n",
       "0        146              28                 16   Boston  \n",
       "1        145               3                107   Boston  \n",
       "2        169               3                115   Boston  \n",
       "3         85              91                 32   Boston  \n",
       "4         87              28                 10   Boston  \n",
       "...      ...             ...                ...      ...  \n",
       "32343    109              30                  0  Seattle  \n",
       "32344    119               1                  0  Seattle  \n",
       "32345    299               1                  0  Seattle  \n",
       "32346    119               1                  0  Seattle  \n",
       "32347     85              30                  0  Seattle  \n",
       "\n",
       "[32348 rows x 7 columns]"
      ]
     },
     "execution_count": 11,
     "metadata": {},
     "output_type": "execute_result"
    }
   ],
   "source": [
    "df"
   ]
  },
  {
   "cell_type": "markdown",
   "metadata": {},
   "source": [
    "#### Q. A customer is planning to go to Seattle and wants to know which type of room has the highest chance of being available in Seattle."
   ]
  },
  {
   "cell_type": "markdown",
   "metadata": {},
   "source": [
    "Note that the event of _\"Finding a room of a specific type given that it is in Seattle\"_ is *__Dependent__* on the event of _\"Finding a room in Seattle\"_."
   ]
  },
  {
   "cell_type": "markdown",
   "metadata": {},
   "source": [
    "Let us first calculate the required probability by looking at the data."
   ]
  },
  {
   "cell_type": "code",
   "execution_count": 7,
   "metadata": {},
   "outputs": [
    {
     "data": {
      "text/html": [
       "<div>\n",
       "<style scoped>\n",
       "    .dataframe tbody tr th:only-of-type {\n",
       "        vertical-align: middle;\n",
       "    }\n",
       "\n",
       "    .dataframe tbody tr th {\n",
       "        vertical-align: top;\n",
       "    }\n",
       "\n",
       "    .dataframe thead th {\n",
       "        text-align: right;\n",
       "    }\n",
       "</style>\n",
       "<table border=\"1\" class=\"dataframe\">\n",
       "  <thead>\n",
       "    <tr style=\"text-align: right;\">\n",
       "      <th></th>\n",
       "      <th>city</th>\n",
       "      <th>room_type</th>\n",
       "      <th>count</th>\n",
       "    </tr>\n",
       "  </thead>\n",
       "  <tbody>\n",
       "    <tr>\n",
       "      <th>8</th>\n",
       "      <td>Seattle</td>\n",
       "      <td>Apartment</td>\n",
       "      <td>5028</td>\n",
       "    </tr>\n",
       "    <tr>\n",
       "      <th>9</th>\n",
       "      <td>Seattle</td>\n",
       "      <td>HotelRoom</td>\n",
       "      <td>51</td>\n",
       "    </tr>\n",
       "    <tr>\n",
       "      <th>10</th>\n",
       "      <td>Seattle</td>\n",
       "      <td>Private</td>\n",
       "      <td>1399</td>\n",
       "    </tr>\n",
       "    <tr>\n",
       "      <th>11</th>\n",
       "      <td>Seattle</td>\n",
       "      <td>Shared</td>\n",
       "      <td>97</td>\n",
       "    </tr>\n",
       "  </tbody>\n",
       "</table>\n",
       "</div>"
      ],
      "text/plain": [
       "       city  room_type  count\n",
       "8   Seattle  Apartment   5028\n",
       "9   Seattle  HotelRoom     51\n",
       "10  Seattle    Private   1399\n",
       "11  Seattle     Shared     97"
      ]
     },
     "execution_count": 7,
     "metadata": {},
     "output_type": "execute_result"
    }
   ],
   "source": [
    "#step1\n",
    "#View the number of rooms of different types in Seattle\n",
    "#size():This calculates the size(count) of each group the number of occurrences for each unique combination of \"city\",\"room_type\n",
    "df2 = pd.DataFrame({'count' : df.groupby( [ \"city\", \"room_type\"] ).size()}).reset_index()\n",
    "# df2\n",
    "df2[(df2['city']=='Seattle')]"
   ]
  },
  {
   "cell_type": "code",
   "execution_count": 9,
   "metadata": {},
   "outputs": [
    {
     "data": {
      "text/html": [
       "<div>\n",
       "<style scoped>\n",
       "    .dataframe tbody tr th:only-of-type {\n",
       "        vertical-align: middle;\n",
       "    }\n",
       "\n",
       "    .dataframe tbody tr th {\n",
       "        vertical-align: top;\n",
       "    }\n",
       "\n",
       "    .dataframe thead th {\n",
       "        text-align: right;\n",
       "    }\n",
       "</style>\n",
       "<table border=\"1\" class=\"dataframe\">\n",
       "  <thead>\n",
       "    <tr style=\"text-align: right;\">\n",
       "      <th></th>\n",
       "      <th>city</th>\n",
       "      <th>room_type</th>\n",
       "      <th>count</th>\n",
       "    </tr>\n",
       "  </thead>\n",
       "  <tbody>\n",
       "    <tr>\n",
       "      <th>0</th>\n",
       "      <td>Boston</td>\n",
       "      <td>Apartment</td>\n",
       "      <td>2163</td>\n",
       "    </tr>\n",
       "    <tr>\n",
       "      <th>1</th>\n",
       "      <td>Boston</td>\n",
       "      <td>HotelRoom</td>\n",
       "      <td>26</td>\n",
       "    </tr>\n",
       "    <tr>\n",
       "      <th>2</th>\n",
       "      <td>Boston</td>\n",
       "      <td>Private</td>\n",
       "      <td>1142</td>\n",
       "    </tr>\n",
       "    <tr>\n",
       "      <th>3</th>\n",
       "      <td>Boston</td>\n",
       "      <td>Shared</td>\n",
       "      <td>8</td>\n",
       "    </tr>\n",
       "    <tr>\n",
       "      <th>4</th>\n",
       "      <td>Hawaii</td>\n",
       "      <td>Apartment</td>\n",
       "      <td>20050</td>\n",
       "    </tr>\n",
       "    <tr>\n",
       "      <th>5</th>\n",
       "      <td>Hawaii</td>\n",
       "      <td>HotelRoom</td>\n",
       "      <td>195</td>\n",
       "    </tr>\n",
       "    <tr>\n",
       "      <th>6</th>\n",
       "      <td>Hawaii</td>\n",
       "      <td>Private</td>\n",
       "      <td>2119</td>\n",
       "    </tr>\n",
       "    <tr>\n",
       "      <th>7</th>\n",
       "      <td>Hawaii</td>\n",
       "      <td>Shared</td>\n",
       "      <td>70</td>\n",
       "    </tr>\n",
       "    <tr>\n",
       "      <th>8</th>\n",
       "      <td>Seattle</td>\n",
       "      <td>Apartment</td>\n",
       "      <td>5028</td>\n",
       "    </tr>\n",
       "    <tr>\n",
       "      <th>9</th>\n",
       "      <td>Seattle</td>\n",
       "      <td>HotelRoom</td>\n",
       "      <td>51</td>\n",
       "    </tr>\n",
       "    <tr>\n",
       "      <th>10</th>\n",
       "      <td>Seattle</td>\n",
       "      <td>Private</td>\n",
       "      <td>1399</td>\n",
       "    </tr>\n",
       "    <tr>\n",
       "      <th>11</th>\n",
       "      <td>Seattle</td>\n",
       "      <td>Shared</td>\n",
       "      <td>97</td>\n",
       "    </tr>\n",
       "  </tbody>\n",
       "</table>\n",
       "</div>"
      ],
      "text/plain": [
       "       city  room_type  count\n",
       "0    Boston  Apartment   2163\n",
       "1    Boston  HotelRoom     26\n",
       "2    Boston    Private   1142\n",
       "3    Boston     Shared      8\n",
       "4    Hawaii  Apartment  20050\n",
       "5    Hawaii  HotelRoom    195\n",
       "6    Hawaii    Private   2119\n",
       "7    Hawaii     Shared     70\n",
       "8   Seattle  Apartment   5028\n",
       "9   Seattle  HotelRoom     51\n",
       "10  Seattle    Private   1399\n",
       "11  Seattle     Shared     97"
      ]
     },
     "execution_count": 9,
     "metadata": {},
     "output_type": "execute_result"
    }
   ],
   "source": [
    "df2"
   ]
  },
  {
   "cell_type": "code",
   "execution_count": 3,
   "metadata": {},
   "outputs": [
    {
     "data": {
      "text/html": [
       "<div>\n",
       "<style scoped>\n",
       "    .dataframe tbody tr th:only-of-type {\n",
       "        vertical-align: middle;\n",
       "    }\n",
       "\n",
       "    .dataframe tbody tr th {\n",
       "        vertical-align: top;\n",
       "    }\n",
       "\n",
       "    .dataframe thead th {\n",
       "        text-align: right;\n",
       "    }\n",
       "</style>\n",
       "<table border=\"1\" class=\"dataframe\">\n",
       "  <thead>\n",
       "    <tr style=\"text-align: right;\">\n",
       "      <th></th>\n",
       "      <th>id</th>\n",
       "      <th>name</th>\n",
       "      <th>room_type</th>\n",
       "      <th>price</th>\n",
       "      <th>minimum_nights</th>\n",
       "      <th>number_of_reviews</th>\n",
       "      <th>city</th>\n",
       "    </tr>\n",
       "  </thead>\n",
       "  <tbody>\n",
       "    <tr>\n",
       "      <th>0</th>\n",
       "      <td>3781</td>\n",
       "      <td>HARBORSIDE-Walk to subway</td>\n",
       "      <td>Apartment</td>\n",
       "      <td>146</td>\n",
       "      <td>28</td>\n",
       "      <td>16</td>\n",
       "      <td>Boston</td>\n",
       "    </tr>\n",
       "    <tr>\n",
       "      <th>1</th>\n",
       "      <td>5506</td>\n",
       "      <td>**$49 Special **   Private! Minutes to center!</td>\n",
       "      <td>Apartment</td>\n",
       "      <td>145</td>\n",
       "      <td>3</td>\n",
       "      <td>107</td>\n",
       "      <td>Boston</td>\n",
       "    </tr>\n",
       "    <tr>\n",
       "      <th>2</th>\n",
       "      <td>6695</td>\n",
       "      <td>$99 Special!! Home Away! Condo</td>\n",
       "      <td>Apartment</td>\n",
       "      <td>169</td>\n",
       "      <td>3</td>\n",
       "      <td>115</td>\n",
       "      <td>Boston</td>\n",
       "    </tr>\n",
       "    <tr>\n",
       "      <th>3</th>\n",
       "      <td>10730</td>\n",
       "      <td>Bright 1bed facing Golden Dome</td>\n",
       "      <td>Apartment</td>\n",
       "      <td>85</td>\n",
       "      <td>91</td>\n",
       "      <td>32</td>\n",
       "      <td>Boston</td>\n",
       "    </tr>\n",
       "    <tr>\n",
       "      <th>4</th>\n",
       "      <td>10813</td>\n",
       "      <td>Back Bay Apt-blocks to subway, Newbury St, The...</td>\n",
       "      <td>Apartment</td>\n",
       "      <td>87</td>\n",
       "      <td>28</td>\n",
       "      <td>10</td>\n",
       "      <td>Boston</td>\n",
       "    </tr>\n",
       "  </tbody>\n",
       "</table>\n",
       "</div>"
      ],
      "text/plain": [
       "      id                                               name  room_type  price  \\\n",
       "0   3781                          HARBORSIDE-Walk to subway  Apartment    146   \n",
       "1   5506     **$49 Special **   Private! Minutes to center!  Apartment    145   \n",
       "2   6695                     $99 Special!! Home Away! Condo  Apartment    169   \n",
       "3  10730                     Bright 1bed facing Golden Dome  Apartment     85   \n",
       "4  10813  Back Bay Apt-blocks to subway, Newbury St, The...  Apartment     87   \n",
       "\n",
       "   minimum_nights  number_of_reviews    city  \n",
       "0              28                 16  Boston  \n",
       "1               3                107  Boston  \n",
       "2               3                115  Boston  \n",
       "3              91                 32  Boston  \n",
       "4              28                 10  Boston  "
      ]
     },
     "execution_count": 3,
     "metadata": {},
     "output_type": "execute_result"
    }
   ],
   "source": [
    "df.head()"
   ]
  },
  {
   "cell_type": "code",
   "execution_count": 8,
   "metadata": {},
   "outputs": [
    {
     "data": {
      "text/plain": [
       "Hawaii     22434\n",
       "Seattle     6575\n",
       "Boston      3339\n",
       "Name: city, dtype: int64"
      ]
     },
     "execution_count": 8,
     "metadata": {},
     "output_type": "execute_result"
    }
   ],
   "source": [
    "#check different cities - rooms in three cities\n",
    "df.city.value_counts()"
   ]
  },
  {
   "cell_type": "code",
   "execution_count": 4,
   "metadata": {},
   "outputs": [
    {
     "data": {
      "text/plain": [
       "6575"
      ]
     },
     "execution_count": 4,
     "metadata": {},
     "output_type": "execute_result"
    }
   ],
   "source": [
    "#step2\n",
    "#calculating the number of rooms in Seattle again\n",
    "n_sea = df2[(df2['city']=='Seattle')]['count'].sum()\n",
    "n_sea"
   ]
  },
  {
   "cell_type": "code",
   "execution_count": 5,
   "metadata": {},
   "outputs": [
    {
     "data": {
      "text/plain": [
       "0.765"
      ]
     },
     "execution_count": 5,
     "metadata": {},
     "output_type": "execute_result"
    }
   ],
   "source": [
    "#step3 city in seattle roomtype apartment count is 5028 / 6575 \n",
    "#probability of finding an Apartment given that it is in Seattle\n",
    "p_aptINsea = round(5028/n_sea,3)\n",
    "p_aptINsea"
   ]
  },
  {
   "cell_type": "code",
   "execution_count": 6,
   "metadata": {},
   "outputs": [
    {
     "data": {
      "text/plain": [
       "0.213"
      ]
     },
     "execution_count": 6,
     "metadata": {},
     "output_type": "execute_result"
    }
   ],
   "source": [
    "#step4 city in seattle roomtype private count is 1399 / 6575 \n",
    "#probability of finding a Private room given that it is in Seattle\n",
    "p_pvtINsea = round(1399/n_sea,3)\n",
    "p_pvtINsea"
   ]
  },
  {
   "cell_type": "code",
   "execution_count": 7,
   "metadata": {},
   "outputs": [
    {
     "data": {
      "text/plain": [
       "0.008"
      ]
     },
     "execution_count": 7,
     "metadata": {},
     "output_type": "execute_result"
    }
   ],
   "source": [
    "#step 5 city in seattle roomtype hotelroom count is 51 / 6575 \n",
    "#probability of finding a Hotel room given that it is in Seattle\n",
    "p_htlINsea = round(51/n_sea,3)\n",
    "p_htlINsea"
   ]
  },
  {
   "cell_type": "code",
   "execution_count": 8,
   "metadata": {},
   "outputs": [
    {
     "data": {
      "text/plain": [
       "0.015"
      ]
     },
     "execution_count": 8,
     "metadata": {},
     "output_type": "execute_result"
    }
   ],
   "source": [
    "#step 5 city in seattle roomtype shared count is 97 / 6575 \n",
    "#probability of finding a Shared room given that it is in Seattle\n",
    "p_shdINsea = round(97/n_sea,3)\n",
    "p_shdINsea"
   ]
  },
  {
   "cell_type": "markdown",
   "metadata": {},
   "source": [
    "### Inference:\n",
    "\n",
    "1. If the customer tries to book an Apartment in Seattle, then he/she has the maximum chance of getting it compared to other types of rooms.\n",
    "2. There is teh least chance of getting a Hotel Room in Seattle."
   ]
  },
  {
   "attachments": {
    "image.png": {
     "image/png": "[encoded data removed]"
    }
   },
   "cell_type": "markdown",
   "metadata": {},
   "source": [
    "#### Let's calculate the probability of _\"Finding an Apartment in Seattle\"_ using the formula of Conditional Probability.\n",
    "\n",
    "**Probability of a dependent event:**\n",
    "![image.png](attachment:image.png)"
   ]
  },
  {
   "attachments": {
    "image.png": {
     "image/png": "[encoded data removed]"
    }
   },
   "cell_type": "markdown",
   "metadata": {},
   "source": [
    "\n",
    "**Probability of intersection of two independent events:**\n",
    "![image.png](attachment:image.png)"
   ]
  },
  {
   "cell_type": "code",
   "execution_count": 9,
   "metadata": {},
   "outputs": [],
   "source": [
    "#step1 \n",
    "#probability of finding a room in Seattle - P(A)\n",
    "\n",
    "p_sea = 0.203 # From last hands on"
   ]
  },
  {
   "cell_type": "code",
   "execution_count": 10,
   "metadata": {},
   "outputs": [
    {
     "data": {
      "text/plain": [
       "0.765"
      ]
     },
     "execution_count": 10,
     "metadata": {},
     "output_type": "execute_result"
    }
   ],
   "source": [
    "#step2 city in seattle roomtype apartment count is 5028 / 6575 = 0.765\n",
    "#probability that a room is an Apartment given that it is Seattle - P(B|A)\n",
    "p_aptINsea"
   ]
  },
  {
   "cell_type": "code",
   "execution_count": 11,
   "metadata": {},
   "outputs": [
    {
     "data": {
      "text/plain": [
       "0.15529500000000002"
      ]
     },
     "execution_count": 11,
     "metadata": {},
     "output_type": "execute_result"
    }
   ],
   "source": [
    "#step3 \n",
    "#probability of finding an Apartment given that it is in Seattle - P(B AND A)\n",
    "p_aptINsea * p_sea"
   ]
  },
  {
   "cell_type": "markdown",
   "metadata": {},
   "source": [
    "### Inference:\n",
    "\n",
    "1. Probability of finding an Apartment in Seattle calculated using formula for Conditional Probability is 0.155.\n",
    "2. This probability matches with probability of intersection calculated directly from the data."
   ]
  },
  {
   "cell_type": "markdown",
   "metadata": {},
   "source": [
    "#### Q. A host wants to invest in real estate and then use that property for renting though _Airbnb_. The host has decided to buy an Apartment type property but hasn't decided the city yet. Can you help the host find which city has less chance of finding apartments so that the host can decide to buy in that city?"
   ]
  },
  {
   "cell_type": "markdown",
   "metadata": {},
   "source": [
    "The required probability is _\"Finding a room in a specific city given that it is of type Apartment\"_. Let's calculate these probabilities for different cities using the formula of __Conditional Probability__."
   ]
  },
  {
   "cell_type": "markdown",
   "metadata": {},
   "source": [
    "1) Probability of finding a room in Boston given that it is an Apartment = (Probability of finding an Apartment in Boston)/(Probabiliy of finding an Apartment)"
   ]
  },
  {
   "cell_type": "code",
   "execution_count": 12,
   "metadata": {},
   "outputs": [],
   "source": [
    "#step1\n",
    "#probabilitment ity of finding an Aparn Boston 2163 / 32348 = 0.067\n",
    "\n",
    "#probability of finding an Apartment in Boston\n",
    "p_aptANDbos = 0.067"
   ]
  },
  {
   "cell_type": "code",
   "execution_count": 13,
   "metadata": {},
   "outputs": [
    {
     "data": {
      "text/plain": [
       "0.842"
      ]
     },
     "execution_count": 13,
     "metadata": {},
     "output_type": "execute_result"
    }
   ],
   "source": [
    "#step2\n",
    "#probability of finding an Apartment 27241/32348 = 0.842\n",
    "\n",
    "#probability of finding an Apartment\n",
    "p_apt = 0.842\n",
    "p_apt"
   ]
  },
  {
   "cell_type": "code",
   "execution_count": 14,
   "metadata": {
    "scrolled": true
   },
   "outputs": [
    {
     "data": {
      "text/plain": [
       "0.08"
      ]
     },
     "execution_count": 14,
     "metadata": {},
     "output_type": "execute_result"
    }
   ],
   "source": [
    "#step3\n",
    "#probability of finding an Apartment in Boston = 0.067 \n",
    "#probability of finding an Apartment = 0.842\n",
    "#Dependent probability of finding a room in Boston given that it is an Apartment 0.067 / 0.842\n",
    "p_bos_given_apt = round(p_aptANDbos/p_apt,3)\n",
    "p_bos_given_apt"
   ]
  },
  {
   "cell_type": "markdown",
   "metadata": {},
   "source": [
    "2) Probability of finding a room in Hawaii given that it is an Apartment = (Probability of finding an Apartment in Hawaii)/(Probabiliy of finding an Apartment)"
   ]
  },
  {
   "cell_type": "code",
   "execution_count": 9,
   "metadata": {},
   "outputs": [
    {
     "data": {
      "text/plain": [
       "0.619821936441202"
      ]
     },
     "execution_count": 9,
     "metadata": {},
     "output_type": "execute_result"
    }
   ],
   "source": [
    "#probability of finding an Apartment in Hawai\n",
    "ss_ab = 32348 #number of rooms available in each city\n",
    "n_apt_haw = df[(df['room_type']=='Apartment') & (df['city'] =='Hawaii')].count()['id']\n",
    "p_aptANDhaw = (n_apt_haw/ss_ab)\n",
    "p_aptANDhaw"
   ]
  },
  {
   "cell_type": "code",
   "execution_count": 13,
   "metadata": {},
   "outputs": [
    {
     "data": {
      "text/plain": [
       "20050"
      ]
     },
     "execution_count": 13,
     "metadata": {},
     "output_type": "execute_result"
    }
   ],
   "source": [
    "n_apt_haw        #20050/32348 = 0.619821936441202"
   ]
  },
  {
   "cell_type": "code",
   "execution_count": 11,
   "metadata": {},
   "outputs": [
    {
     "data": {
      "text/plain": [
       "0.842"
      ]
     },
     "execution_count": 11,
     "metadata": {},
     "output_type": "execute_result"
    }
   ],
   "source": [
    "#probability of finding an Apartment 27241/32348 = 0.842\n",
    "\n",
    "#probability of finding an Apartment\n",
    "p_apt = 0.842\n",
    "p_apt"
   ]
  },
  {
   "cell_type": "code",
   "execution_count": 15,
   "metadata": {},
   "outputs": [
    {
     "data": {
      "text/plain": [
       "0.736"
      ]
     },
     "execution_count": 15,
     "metadata": {},
     "output_type": "execute_result"
    }
   ],
   "source": [
    "#step4 \n",
    "#probability of finding an Apartment in Hawai 0.619\n",
    "##probability of finding an Apartment 0.842\n",
    "#DepenNM a room in Hawaii given that it is an Apartment 0.619/ 0.842 = 0.736\n",
    "p_haw_given_apt = round(p_aptANDhaw/p_apt,3)\n",
    "p_haw_given_apt"
   ]
  },
  {
   "cell_type": "markdown",
   "metadata": {},
   "source": [
    "3) Probability of finding a room in Seattle given that it is an Apartment = (Probability of finding an Apartment in Seattle)/(Probabiliy of finding an Apartment)"
   ]
  },
  {
   "cell_type": "code",
   "execution_count": 10,
   "metadata": {},
   "outputs": [
    {
     "data": {
      "text/plain": [
       "0.15543464820081612"
      ]
     },
     "execution_count": 10,
     "metadata": {},
     "output_type": "execute_result"
    }
   ],
   "source": [
    "#probability of finding an Apartment in Seattle\n",
    "ss_ab = 32348 #number of rooms available in each city\n",
    "n_apt_sea = df[(df['room_type']=='Apartment') & (df['city'] =='Seattle')].count()['id']\n",
    "p_aptANDsea = (n_apt_sea/ss_ab)\n",
    "p_aptANDsea"
   ]
  },
  {
   "cell_type": "code",
   "execution_count": 12,
   "metadata": {},
   "outputs": [
    {
     "data": {
      "text/plain": [
       "0.842"
      ]
     },
     "execution_count": 12,
     "metadata": {},
     "output_type": "execute_result"
    }
   ],
   "source": [
    "#probability of finding an Apartment 27241/32348 = 0.842\n",
    "\n",
    "#probability of finding an Apartment\n",
    "p_apt = 0.842\n",
    "p_apt"
   ]
  },
  {
   "cell_type": "code",
   "execution_count": 16,
   "metadata": {},
   "outputs": [
    {
     "data": {
      "text/plain": [
       "0.185"
      ]
     },
     "execution_count": 16,
     "metadata": {},
     "output_type": "execute_result"
    }
   ],
   "source": [
    "#step5\n",
    "#probability of finding an Apartment in Seattle 0.155\n",
    "##probability of finding an Apartment 0.842\n",
    "#Dependent probability of finding a room in seattle given that it is an Apartment 0.155/ 0.842 = 0.185\n",
    "p_sea_given_apt = round(p_aptANDsea/p_apt,3)\n",
    "p_sea_given_apt"
   ]
  },
  {
   "cell_type": "markdown",
   "metadata": {},
   "source": [
    "### Inference:\n",
    "\n",
    "1. Probability of Apartment type rooms is least in Boston. Hence the host should buy an Apartment in Boston to get more profits."
   ]
  }
 ],
 "metadata": {
  "kernelspec": {
   "display_name": "Python 3 (ipykernel)",
   "language": "python",
   "name": "python3"
  },
  "language_info": {
   "codemirror_mode": {
    "name": "ipython",
    "version": 3
   },
   "file_extension": ".py",
   "mimetype": "text/x-python",
   "name": "python",
   "nbconvert_exporter": "python",
   "pygments_lexer": "ipython3",
   "version": "3.12.4"
  }
 },
 "nbformat": 4,
 "nbformat_minor": 4
}
