{
 "cells": [
  {
   "cell_type": "code",
   "execution_count": null,
   "id": "e838e712-1901-431d-aebc-d3a01c22d07f",
   "metadata": {},
   "outputs": [],
   "source": [
    "# Q1. Problem Statement: Conditional Probability\n",
    "# Load the “kerala.csv” data into a DataFrame and perform the following tasks:\n",
    "# 1. Explore the DataFrame using info() and describe() functions\n",
    "# 2. June and July are the peak months of rainfall. Consider that if it rains more\n",
    "# than 500mm, then the chances of flood become more; create a Datarame\n",
    "# with columns –“YEAR”, “JUN_GT_500” (Contains a boolean value to show\n",
    "# whether it rained more than 500 mm in June), “JUL_GT_500” (Contains a\n",
    "# boolean value to show whether it rained more than 500 mm in July), and\n",
    "# “FLOODS” (Contains a boolean value to show whether it flooded that year)\n",
    "# 3. Calculate the probability of flood given it rained more than 500 mm in June\n",
    "# (P(A|B))\n",
    "# 4. Calculate the probability of rain more than 500 mm in June, given it flooded\n",
    "# that year (P(B|A))\n",
    "# 5. Probability of flood given it rained more than 500 mm in July\n",
    "# 6. Probability of rain of more than 500 mm in July given it flooded that year\n",
    "# (P(B|A))"
   ]
  },
  {
   "cell_type": "code",
   "execution_count": 29,
   "id": "670784b7-0b7e-4735-8cec-e51a772346b4",
   "metadata": {},
   "outputs": [
    {
     "data": {
      "text/html": [
       "<div>\n",
       "<style scoped>\n",
       "    .dataframe tbody tr th:only-of-type {\n",
       "        vertical-align: middle;\n",
       "    }\n",
       "\n",
       "    .dataframe tbody tr th {\n",
       "        vertical-align: top;\n",
       "    }\n",
       "\n",
       "    .dataframe thead th {\n",
       "        text-align: right;\n",
       "    }\n",
       "</style>\n",
       "<table border=\"1\" class=\"dataframe\">\n",
       "  <thead>\n",
       "    <tr style=\"text-align: right;\">\n",
       "      <th></th>\n",
       "      <th>SUBDIVISION</th>\n",
       "      <th>YEAR</th>\n",
       "      <th>JAN</th>\n",
       "      <th>FEB</th>\n",
       "      <th>MAR</th>\n",
       "      <th>APR</th>\n",
       "      <th>MAY</th>\n",
       "      <th>JUN</th>\n",
       "      <th>JUL</th>\n",
       "      <th>AUG</th>\n",
       "      <th>SEP</th>\n",
       "      <th>OCT</th>\n",
       "      <th>NOV</th>\n",
       "      <th>DEC</th>\n",
       "      <th>ANNUAL RAINFALL</th>\n",
       "      <th>FLOODS</th>\n",
       "    </tr>\n",
       "  </thead>\n",
       "  <tbody>\n",
       "    <tr>\n",
       "      <th>0</th>\n",
       "      <td>KERALA</td>\n",
       "      <td>1901</td>\n",
       "      <td>28.7</td>\n",
       "      <td>44.7</td>\n",
       "      <td>51.6</td>\n",
       "      <td>160.0</td>\n",
       "      <td>174.7</td>\n",
       "      <td>824.6</td>\n",
       "      <td>743.0</td>\n",
       "      <td>357.5</td>\n",
       "      <td>197.7</td>\n",
       "      <td>266.9</td>\n",
       "      <td>350.8</td>\n",
       "      <td>48.4</td>\n",
       "      <td>3248.6</td>\n",
       "      <td>YES</td>\n",
       "    </tr>\n",
       "    <tr>\n",
       "      <th>1</th>\n",
       "      <td>KERALA</td>\n",
       "      <td>1902</td>\n",
       "      <td>6.7</td>\n",
       "      <td>2.6</td>\n",
       "      <td>57.3</td>\n",
       "      <td>83.9</td>\n",
       "      <td>134.5</td>\n",
       "      <td>390.9</td>\n",
       "      <td>1205.0</td>\n",
       "      <td>315.8</td>\n",
       "      <td>491.6</td>\n",
       "      <td>358.4</td>\n",
       "      <td>158.3</td>\n",
       "      <td>121.5</td>\n",
       "      <td>3326.6</td>\n",
       "      <td>YES</td>\n",
       "    </tr>\n",
       "    <tr>\n",
       "      <th>2</th>\n",
       "      <td>KERALA</td>\n",
       "      <td>1903</td>\n",
       "      <td>3.2</td>\n",
       "      <td>18.6</td>\n",
       "      <td>3.1</td>\n",
       "      <td>83.6</td>\n",
       "      <td>249.7</td>\n",
       "      <td>558.6</td>\n",
       "      <td>1022.5</td>\n",
       "      <td>420.2</td>\n",
       "      <td>341.8</td>\n",
       "      <td>354.1</td>\n",
       "      <td>157.0</td>\n",
       "      <td>59.0</td>\n",
       "      <td>3271.2</td>\n",
       "      <td>YES</td>\n",
       "    </tr>\n",
       "    <tr>\n",
       "      <th>3</th>\n",
       "      <td>KERALA</td>\n",
       "      <td>1904</td>\n",
       "      <td>23.7</td>\n",
       "      <td>3.0</td>\n",
       "      <td>32.2</td>\n",
       "      <td>71.5</td>\n",
       "      <td>235.7</td>\n",
       "      <td>1098.2</td>\n",
       "      <td>725.5</td>\n",
       "      <td>351.8</td>\n",
       "      <td>222.7</td>\n",
       "      <td>328.1</td>\n",
       "      <td>33.9</td>\n",
       "      <td>3.3</td>\n",
       "      <td>3129.7</td>\n",
       "      <td>YES</td>\n",
       "    </tr>\n",
       "    <tr>\n",
       "      <th>4</th>\n",
       "      <td>KERALA</td>\n",
       "      <td>1905</td>\n",
       "      <td>1.2</td>\n",
       "      <td>22.3</td>\n",
       "      <td>9.4</td>\n",
       "      <td>105.9</td>\n",
       "      <td>263.3</td>\n",
       "      <td>850.2</td>\n",
       "      <td>520.5</td>\n",
       "      <td>293.6</td>\n",
       "      <td>217.2</td>\n",
       "      <td>383.5</td>\n",
       "      <td>74.4</td>\n",
       "      <td>0.2</td>\n",
       "      <td>2741.6</td>\n",
       "      <td>NO</td>\n",
       "    </tr>\n",
       "  </tbody>\n",
       "</table>\n",
       "</div>"
      ],
      "text/plain": [
       "  SUBDIVISION  YEAR   JAN   FEB   MAR    APR    MAY     JUN     JUL    AUG  \\\n",
       "0      KERALA  1901  28.7  44.7  51.6  160.0  174.7   824.6   743.0  357.5   \n",
       "1      KERALA  1902   6.7   2.6  57.3   83.9  134.5   390.9  1205.0  315.8   \n",
       "2      KERALA  1903   3.2  18.6   3.1   83.6  249.7   558.6  1022.5  420.2   \n",
       "3      KERALA  1904  23.7   3.0  32.2   71.5  235.7  1098.2   725.5  351.8   \n",
       "4      KERALA  1905   1.2  22.3   9.4  105.9  263.3   850.2   520.5  293.6   \n",
       "\n",
       "     SEP    OCT    NOV    DEC   ANNUAL RAINFALL FLOODS  \n",
       "0  197.7  266.9  350.8   48.4            3248.6    YES  \n",
       "1  491.6  358.4  158.3  121.5            3326.6    YES  \n",
       "2  341.8  354.1  157.0   59.0            3271.2    YES  \n",
       "3  222.7  328.1   33.9    3.3            3129.7    YES  \n",
       "4  217.2  383.5   74.4    0.2            2741.6     NO  "
      ]
     },
     "execution_count": 29,
     "metadata": {},
     "output_type": "execute_result"
    }
   ],
   "source": [
    "import pandas as pd\n",
    "data = pd.read_csv('kerala.csv')\n",
    "data.head()"
   ]
  },
  {
   "cell_type": "code",
   "execution_count": 5,
   "id": "83cb5fcc-d0a8-44a3-90fd-25028699d22e",
   "metadata": {},
   "outputs": [
    {
     "name": "stdout",
     "output_type": "stream",
     "text": [
      "<class 'pandas.core.frame.DataFrame'>\n",
      "RangeIndex: 118 entries, 0 to 117\n",
      "Data columns (total 16 columns):\n",
      " #   Column            Non-Null Count  Dtype  \n",
      "---  ------            --------------  -----  \n",
      " 0   SUBDIVISION       118 non-null    object \n",
      " 1   YEAR              118 non-null    int64  \n",
      " 2   JAN               118 non-null    float64\n",
      " 3   FEB               118 non-null    float64\n",
      " 4   MAR               118 non-null    float64\n",
      " 5   APR               118 non-null    float64\n",
      " 6   MAY               118 non-null    float64\n",
      " 7   JUN               118 non-null    float64\n",
      " 8   JUL               118 non-null    float64\n",
      " 9   AUG               118 non-null    float64\n",
      " 10  SEP               118 non-null    float64\n",
      " 11  OCT               118 non-null    float64\n",
      " 12  NOV               118 non-null    float64\n",
      " 13  DEC               118 non-null    float64\n",
      " 14   ANNUAL RAINFALL  118 non-null    float64\n",
      " 15  FLOODS            118 non-null    object \n",
      "dtypes: float64(13), int64(1), object(2)\n",
      "memory usage: 14.9+ KB\n"
     ]
    }
   ],
   "source": [
    "data.info()"
   ]
  },
  {
   "cell_type": "code",
   "execution_count": 7,
   "id": "afc9cf05-c0a7-4d34-bbb8-5e7657f7ff67",
   "metadata": {},
   "outputs": [
    {
     "data": {
      "text/html": [
       "<div>\n",
       "<style scoped>\n",
       "    .dataframe tbody tr th:only-of-type {\n",
       "        vertical-align: middle;\n",
       "    }\n",
       "\n",
       "    .dataframe tbody tr th {\n",
       "        vertical-align: top;\n",
       "    }\n",
       "\n",
       "    .dataframe thead th {\n",
       "        text-align: right;\n",
       "    }\n",
       "</style>\n",
       "<table border=\"1\" class=\"dataframe\">\n",
       "  <thead>\n",
       "    <tr style=\"text-align: right;\">\n",
       "      <th></th>\n",
       "      <th>YEAR</th>\n",
       "      <th>JAN</th>\n",
       "      <th>FEB</th>\n",
       "      <th>MAR</th>\n",
       "      <th>APR</th>\n",
       "      <th>MAY</th>\n",
       "      <th>JUN</th>\n",
       "      <th>JUL</th>\n",
       "      <th>AUG</th>\n",
       "      <th>SEP</th>\n",
       "      <th>OCT</th>\n",
       "      <th>NOV</th>\n",
       "      <th>DEC</th>\n",
       "      <th>ANNUAL RAINFALL</th>\n",
       "    </tr>\n",
       "  </thead>\n",
       "  <tbody>\n",
       "    <tr>\n",
       "      <th>count</th>\n",
       "      <td>118.000000</td>\n",
       "      <td>118.000000</td>\n",
       "      <td>118.000000</td>\n",
       "      <td>118.000000</td>\n",
       "      <td>118.000000</td>\n",
       "      <td>118.000000</td>\n",
       "      <td>118.000000</td>\n",
       "      <td>118.000000</td>\n",
       "      <td>118.000000</td>\n",
       "      <td>118.000000</td>\n",
       "      <td>118.000000</td>\n",
       "      <td>118.000000</td>\n",
       "      <td>118.000000</td>\n",
       "      <td>118.000000</td>\n",
       "    </tr>\n",
       "    <tr>\n",
       "      <th>mean</th>\n",
       "      <td>1959.500000</td>\n",
       "      <td>12.218644</td>\n",
       "      <td>15.633898</td>\n",
       "      <td>36.670339</td>\n",
       "      <td>110.330508</td>\n",
       "      <td>228.644915</td>\n",
       "      <td>651.617797</td>\n",
       "      <td>698.220339</td>\n",
       "      <td>430.369492</td>\n",
       "      <td>246.207627</td>\n",
       "      <td>293.207627</td>\n",
       "      <td>162.311017</td>\n",
       "      <td>40.009322</td>\n",
       "      <td>2925.405085</td>\n",
       "    </tr>\n",
       "    <tr>\n",
       "      <th>std</th>\n",
       "      <td>34.207699</td>\n",
       "      <td>15.473766</td>\n",
       "      <td>16.406290</td>\n",
       "      <td>30.063862</td>\n",
       "      <td>44.633452</td>\n",
       "      <td>147.548778</td>\n",
       "      <td>186.181363</td>\n",
       "      <td>228.988966</td>\n",
       "      <td>181.980463</td>\n",
       "      <td>121.901131</td>\n",
       "      <td>93.705253</td>\n",
       "      <td>83.200485</td>\n",
       "      <td>36.676330</td>\n",
       "      <td>452.169407</td>\n",
       "    </tr>\n",
       "    <tr>\n",
       "      <th>min</th>\n",
       "      <td>1901.000000</td>\n",
       "      <td>0.000000</td>\n",
       "      <td>0.000000</td>\n",
       "      <td>0.100000</td>\n",
       "      <td>13.100000</td>\n",
       "      <td>53.400000</td>\n",
       "      <td>196.800000</td>\n",
       "      <td>167.500000</td>\n",
       "      <td>178.600000</td>\n",
       "      <td>41.300000</td>\n",
       "      <td>68.500000</td>\n",
       "      <td>31.500000</td>\n",
       "      <td>0.100000</td>\n",
       "      <td>2068.800000</td>\n",
       "    </tr>\n",
       "    <tr>\n",
       "      <th>25%</th>\n",
       "      <td>1930.250000</td>\n",
       "      <td>2.175000</td>\n",
       "      <td>4.700000</td>\n",
       "      <td>18.100000</td>\n",
       "      <td>74.350000</td>\n",
       "      <td>125.050000</td>\n",
       "      <td>535.550000</td>\n",
       "      <td>533.200000</td>\n",
       "      <td>316.725000</td>\n",
       "      <td>155.425000</td>\n",
       "      <td>222.125000</td>\n",
       "      <td>93.025000</td>\n",
       "      <td>10.350000</td>\n",
       "      <td>2613.525000</td>\n",
       "    </tr>\n",
       "    <tr>\n",
       "      <th>50%</th>\n",
       "      <td>1959.500000</td>\n",
       "      <td>5.800000</td>\n",
       "      <td>8.350000</td>\n",
       "      <td>28.400000</td>\n",
       "      <td>110.400000</td>\n",
       "      <td>184.600000</td>\n",
       "      <td>625.600000</td>\n",
       "      <td>691.650000</td>\n",
       "      <td>386.250000</td>\n",
       "      <td>223.550000</td>\n",
       "      <td>284.300000</td>\n",
       "      <td>152.450000</td>\n",
       "      <td>31.100000</td>\n",
       "      <td>2934.300000</td>\n",
       "    </tr>\n",
       "    <tr>\n",
       "      <th>75%</th>\n",
       "      <td>1988.750000</td>\n",
       "      <td>18.175000</td>\n",
       "      <td>21.400000</td>\n",
       "      <td>49.825000</td>\n",
       "      <td>136.450000</td>\n",
       "      <td>264.875000</td>\n",
       "      <td>786.975000</td>\n",
       "      <td>832.425000</td>\n",
       "      <td>500.100000</td>\n",
       "      <td>334.500000</td>\n",
       "      <td>355.150000</td>\n",
       "      <td>218.325000</td>\n",
       "      <td>54.025000</td>\n",
       "      <td>3170.400000</td>\n",
       "    </tr>\n",
       "    <tr>\n",
       "      <th>max</th>\n",
       "      <td>2018.000000</td>\n",
       "      <td>83.500000</td>\n",
       "      <td>79.000000</td>\n",
       "      <td>217.200000</td>\n",
       "      <td>238.000000</td>\n",
       "      <td>738.800000</td>\n",
       "      <td>1098.200000</td>\n",
       "      <td>1526.500000</td>\n",
       "      <td>1398.900000</td>\n",
       "      <td>526.700000</td>\n",
       "      <td>567.900000</td>\n",
       "      <td>365.600000</td>\n",
       "      <td>202.300000</td>\n",
       "      <td>4473.000000</td>\n",
       "    </tr>\n",
       "  </tbody>\n",
       "</table>\n",
       "</div>"
      ],
      "text/plain": [
       "              YEAR         JAN         FEB         MAR         APR  \\\n",
       "count   118.000000  118.000000  118.000000  118.000000  118.000000   \n",
       "mean   1959.500000   12.218644   15.633898   36.670339  110.330508   \n",
       "std      34.207699   15.473766   16.406290   30.063862   44.633452   \n",
       "min    1901.000000    0.000000    0.000000    0.100000   13.100000   \n",
       "25%    1930.250000    2.175000    4.700000   18.100000   74.350000   \n",
       "50%    1959.500000    5.800000    8.350000   28.400000  110.400000   \n",
       "75%    1988.750000   18.175000   21.400000   49.825000  136.450000   \n",
       "max    2018.000000   83.500000   79.000000  217.200000  238.000000   \n",
       "\n",
       "              MAY          JUN          JUL          AUG         SEP  \\\n",
       "count  118.000000   118.000000   118.000000   118.000000  118.000000   \n",
       "mean   228.644915   651.617797   698.220339   430.369492  246.207627   \n",
       "std    147.548778   186.181363   228.988966   181.980463  121.901131   \n",
       "min     53.400000   196.800000   167.500000   178.600000   41.300000   \n",
       "25%    125.050000   535.550000   533.200000   316.725000  155.425000   \n",
       "50%    184.600000   625.600000   691.650000   386.250000  223.550000   \n",
       "75%    264.875000   786.975000   832.425000   500.100000  334.500000   \n",
       "max    738.800000  1098.200000  1526.500000  1398.900000  526.700000   \n",
       "\n",
       "              OCT         NOV         DEC   ANNUAL RAINFALL  \n",
       "count  118.000000  118.000000  118.000000        118.000000  \n",
       "mean   293.207627  162.311017   40.009322       2925.405085  \n",
       "std     93.705253   83.200485   36.676330        452.169407  \n",
       "min     68.500000   31.500000    0.100000       2068.800000  \n",
       "25%    222.125000   93.025000   10.350000       2613.525000  \n",
       "50%    284.300000  152.450000   31.100000       2934.300000  \n",
       "75%    355.150000  218.325000   54.025000       3170.400000  \n",
       "max    567.900000  365.600000  202.300000       4473.000000  "
      ]
     },
     "execution_count": 7,
     "metadata": {},
     "output_type": "execute_result"
    }
   ],
   "source": [
    "data.describe()"
   ]
  },
  {
   "cell_type": "code",
   "execution_count": 9,
   "id": "8988bafc-b302-4ab3-95dc-c843b40c975d",
   "metadata": {},
   "outputs": [
    {
     "data": {
      "text/plain": [
       "SUBDIVISION         False\n",
       "YEAR                False\n",
       "JAN                 False\n",
       "FEB                 False\n",
       "MAR                 False\n",
       "APR                 False\n",
       "MAY                 False\n",
       "JUN                 False\n",
       "JUL                 False\n",
       "AUG                 False\n",
       "SEP                 False\n",
       "OCT                 False\n",
       "NOV                 False\n",
       "DEC                 False\n",
       " ANNUAL RAINFALL    False\n",
       "FLOODS              False\n",
       "dtype: bool"
      ]
     },
     "execution_count": 9,
     "metadata": {},
     "output_type": "execute_result"
    }
   ],
   "source": [
    "data.isnull().any()"
   ]
  },
  {
   "cell_type": "code",
   "execution_count": null,
   "id": "e6455a68-2494-450b-a8e6-6f3a06272557",
   "metadata": {},
   "outputs": [],
   "source": [
    "# 2. June and July are the peak months of rainfall. Consider that if it rains more\n",
    "# than 500mm, then the chances of flood become more; create a Datarame\n",
    "# with columns –“YEAR”, “JUN_GT_500” (Contains a boolean value to show\n",
    "# whether it rained more than 500 mm in June), “JUL_GT_500” (Contains a\n",
    "# boolean value to show whether it rained more than 500 mm in July), and\n",
    "# “FLOODS” (Contains a boolean value to show whether it flooded that year)"
   ]
  },
  {
   "cell_type": "code",
   "execution_count": 31,
   "id": "03e8e784-f909-43c4-bae0-5079abd17563",
   "metadata": {},
   "outputs": [
    {
     "data": {
      "text/html": [
       "<div>\n",
       "<style scoped>\n",
       "    .dataframe tbody tr th:only-of-type {\n",
       "        vertical-align: middle;\n",
       "    }\n",
       "\n",
       "    .dataframe tbody tr th {\n",
       "        vertical-align: top;\n",
       "    }\n",
       "\n",
       "    .dataframe thead th {\n",
       "        text-align: right;\n",
       "    }\n",
       "</style>\n",
       "<table border=\"1\" class=\"dataframe\">\n",
       "  <thead>\n",
       "    <tr style=\"text-align: right;\">\n",
       "      <th></th>\n",
       "      <th>SUBDIVISION</th>\n",
       "      <th>YEAR</th>\n",
       "      <th>JAN</th>\n",
       "      <th>FEB</th>\n",
       "      <th>MAR</th>\n",
       "      <th>APR</th>\n",
       "      <th>MAY</th>\n",
       "      <th>JUN</th>\n",
       "      <th>JUL</th>\n",
       "      <th>AUG</th>\n",
       "      <th>SEP</th>\n",
       "      <th>OCT</th>\n",
       "      <th>NOV</th>\n",
       "      <th>DEC</th>\n",
       "      <th>ANNUAL RAINFALL</th>\n",
       "      <th>FLOODS</th>\n",
       "      <th>JUN_GT_500</th>\n",
       "      <th>JUL_GT_500</th>\n",
       "    </tr>\n",
       "  </thead>\n",
       "  <tbody>\n",
       "    <tr>\n",
       "      <th>0</th>\n",
       "      <td>KERALA</td>\n",
       "      <td>1901</td>\n",
       "      <td>28.7</td>\n",
       "      <td>44.7</td>\n",
       "      <td>51.6</td>\n",
       "      <td>160.0</td>\n",
       "      <td>174.7</td>\n",
       "      <td>824.6</td>\n",
       "      <td>743.0</td>\n",
       "      <td>357.5</td>\n",
       "      <td>197.7</td>\n",
       "      <td>266.9</td>\n",
       "      <td>350.8</td>\n",
       "      <td>48.4</td>\n",
       "      <td>3248.6</td>\n",
       "      <td>True</td>\n",
       "      <td>True</td>\n",
       "      <td>True</td>\n",
       "    </tr>\n",
       "    <tr>\n",
       "      <th>1</th>\n",
       "      <td>KERALA</td>\n",
       "      <td>1902</td>\n",
       "      <td>6.7</td>\n",
       "      <td>2.6</td>\n",
       "      <td>57.3</td>\n",
       "      <td>83.9</td>\n",
       "      <td>134.5</td>\n",
       "      <td>390.9</td>\n",
       "      <td>1205.0</td>\n",
       "      <td>315.8</td>\n",
       "      <td>491.6</td>\n",
       "      <td>358.4</td>\n",
       "      <td>158.3</td>\n",
       "      <td>121.5</td>\n",
       "      <td>3326.6</td>\n",
       "      <td>True</td>\n",
       "      <td>False</td>\n",
       "      <td>True</td>\n",
       "    </tr>\n",
       "    <tr>\n",
       "      <th>2</th>\n",
       "      <td>KERALA</td>\n",
       "      <td>1903</td>\n",
       "      <td>3.2</td>\n",
       "      <td>18.6</td>\n",
       "      <td>3.1</td>\n",
       "      <td>83.6</td>\n",
       "      <td>249.7</td>\n",
       "      <td>558.6</td>\n",
       "      <td>1022.5</td>\n",
       "      <td>420.2</td>\n",
       "      <td>341.8</td>\n",
       "      <td>354.1</td>\n",
       "      <td>157.0</td>\n",
       "      <td>59.0</td>\n",
       "      <td>3271.2</td>\n",
       "      <td>True</td>\n",
       "      <td>True</td>\n",
       "      <td>True</td>\n",
       "    </tr>\n",
       "    <tr>\n",
       "      <th>3</th>\n",
       "      <td>KERALA</td>\n",
       "      <td>1904</td>\n",
       "      <td>23.7</td>\n",
       "      <td>3.0</td>\n",
       "      <td>32.2</td>\n",
       "      <td>71.5</td>\n",
       "      <td>235.7</td>\n",
       "      <td>1098.2</td>\n",
       "      <td>725.5</td>\n",
       "      <td>351.8</td>\n",
       "      <td>222.7</td>\n",
       "      <td>328.1</td>\n",
       "      <td>33.9</td>\n",
       "      <td>3.3</td>\n",
       "      <td>3129.7</td>\n",
       "      <td>True</td>\n",
       "      <td>True</td>\n",
       "      <td>True</td>\n",
       "    </tr>\n",
       "    <tr>\n",
       "      <th>4</th>\n",
       "      <td>KERALA</td>\n",
       "      <td>1905</td>\n",
       "      <td>1.2</td>\n",
       "      <td>22.3</td>\n",
       "      <td>9.4</td>\n",
       "      <td>105.9</td>\n",
       "      <td>263.3</td>\n",
       "      <td>850.2</td>\n",
       "      <td>520.5</td>\n",
       "      <td>293.6</td>\n",
       "      <td>217.2</td>\n",
       "      <td>383.5</td>\n",
       "      <td>74.4</td>\n",
       "      <td>0.2</td>\n",
       "      <td>2741.6</td>\n",
       "      <td>False</td>\n",
       "      <td>True</td>\n",
       "      <td>True</td>\n",
       "    </tr>\n",
       "  </tbody>\n",
       "</table>\n",
       "</div>"
      ],
      "text/plain": [
       "  SUBDIVISION  YEAR   JAN   FEB   MAR    APR    MAY     JUN     JUL    AUG  \\\n",
       "0      KERALA  1901  28.7  44.7  51.6  160.0  174.7   824.6   743.0  357.5   \n",
       "1      KERALA  1902   6.7   2.6  57.3   83.9  134.5   390.9  1205.0  315.8   \n",
       "2      KERALA  1903   3.2  18.6   3.1   83.6  249.7   558.6  1022.5  420.2   \n",
       "3      KERALA  1904  23.7   3.0  32.2   71.5  235.7  1098.2   725.5  351.8   \n",
       "4      KERALA  1905   1.2  22.3   9.4  105.9  263.3   850.2   520.5  293.6   \n",
       "\n",
       "     SEP    OCT    NOV    DEC   ANNUAL RAINFALL  FLOODS  JUN_GT_500  \\\n",
       "0  197.7  266.9  350.8   48.4            3248.6    True        True   \n",
       "1  491.6  358.4  158.3  121.5            3326.6    True       False   \n",
       "2  341.8  354.1  157.0   59.0            3271.2    True        True   \n",
       "3  222.7  328.1   33.9    3.3            3129.7    True        True   \n",
       "4  217.2  383.5   74.4    0.2            2741.6   False        True   \n",
       "\n",
       "   JUL_GT_500  \n",
       "0        True  \n",
       "1        True  \n",
       "2        True  \n",
       "3        True  \n",
       "4        True  "
      ]
     },
     "execution_count": 31,
     "metadata": {},
     "output_type": "execute_result"
    }
   ],
   "source": [
    "data['JUN_GT_500'] = (data['JUN']>500).astype('bool')\n",
    "data['JUL_GT_500'] = (data['JUL']>500).astype('bool')\n",
    "\n",
    "data[\"FLOODS\"] = data['FLOODS'].map({\"YES\":True, \"NO\":False})\n",
    "data.head()"
   ]
  },
  {
   "cell_type": "code",
   "execution_count": 41,
   "id": "0d950c0f-561d-4346-945f-da9e1120aaf2",
   "metadata": {},
   "outputs": [
    {
     "data": {
      "text/html": [
       "<div>\n",
       "<style scoped>\n",
       "    .dataframe tbody tr th:only-of-type {\n",
       "        vertical-align: middle;\n",
       "    }\n",
       "\n",
       "    .dataframe tbody tr th {\n",
       "        vertical-align: top;\n",
       "    }\n",
       "\n",
       "    .dataframe thead th {\n",
       "        text-align: right;\n",
       "    }\n",
       "</style>\n",
       "<table border=\"1\" class=\"dataframe\">\n",
       "  <thead>\n",
       "    <tr style=\"text-align: right;\">\n",
       "      <th></th>\n",
       "      <th>YEAR</th>\n",
       "      <th>JUN_GT_500</th>\n",
       "      <th>JUL_GT_500</th>\n",
       "      <th>FLOODS</th>\n",
       "    </tr>\n",
       "  </thead>\n",
       "  <tbody>\n",
       "    <tr>\n",
       "      <th>0</th>\n",
       "      <td>1901</td>\n",
       "      <td>True</td>\n",
       "      <td>True</td>\n",
       "      <td>True</td>\n",
       "    </tr>\n",
       "    <tr>\n",
       "      <th>1</th>\n",
       "      <td>1902</td>\n",
       "      <td>False</td>\n",
       "      <td>True</td>\n",
       "      <td>True</td>\n",
       "    </tr>\n",
       "    <tr>\n",
       "      <th>2</th>\n",
       "      <td>1903</td>\n",
       "      <td>True</td>\n",
       "      <td>True</td>\n",
       "      <td>True</td>\n",
       "    </tr>\n",
       "    <tr>\n",
       "      <th>3</th>\n",
       "      <td>1904</td>\n",
       "      <td>True</td>\n",
       "      <td>True</td>\n",
       "      <td>True</td>\n",
       "    </tr>\n",
       "    <tr>\n",
       "      <th>4</th>\n",
       "      <td>1905</td>\n",
       "      <td>True</td>\n",
       "      <td>True</td>\n",
       "      <td>False</td>\n",
       "    </tr>\n",
       "    <tr>\n",
       "      <th>...</th>\n",
       "      <td>...</td>\n",
       "      <td>...</td>\n",
       "      <td>...</td>\n",
       "      <td>...</td>\n",
       "    </tr>\n",
       "    <tr>\n",
       "      <th>113</th>\n",
       "      <td>2014</td>\n",
       "      <td>False</td>\n",
       "      <td>True</td>\n",
       "      <td>True</td>\n",
       "    </tr>\n",
       "    <tr>\n",
       "      <th>114</th>\n",
       "      <td>2015</td>\n",
       "      <td>True</td>\n",
       "      <td>False</td>\n",
       "      <td>False</td>\n",
       "    </tr>\n",
       "    <tr>\n",
       "      <th>115</th>\n",
       "      <td>2016</td>\n",
       "      <td>True</td>\n",
       "      <td>False</td>\n",
       "      <td>False</td>\n",
       "    </tr>\n",
       "    <tr>\n",
       "      <th>116</th>\n",
       "      <td>2017</td>\n",
       "      <td>False</td>\n",
       "      <td>False</td>\n",
       "      <td>False</td>\n",
       "    </tr>\n",
       "    <tr>\n",
       "      <th>117</th>\n",
       "      <td>2018</td>\n",
       "      <td>True</td>\n",
       "      <td>True</td>\n",
       "      <td>True</td>\n",
       "    </tr>\n",
       "  </tbody>\n",
       "</table>\n",
       "<p>118 rows × 4 columns</p>\n",
       "</div>"
      ],
      "text/plain": [
       "     YEAR  JUN_GT_500  JUL_GT_500  FLOODS\n",
       "0    1901        True        True    True\n",
       "1    1902       False        True    True\n",
       "2    1903        True        True    True\n",
       "3    1904        True        True    True\n",
       "4    1905        True        True   False\n",
       "..    ...         ...         ...     ...\n",
       "113  2014       False        True    True\n",
       "114  2015        True       False   False\n",
       "115  2016        True       False   False\n",
       "116  2017       False       False   False\n",
       "117  2018        True        True    True\n",
       "\n",
       "[118 rows x 4 columns]"
      ]
     },
     "execution_count": 41,
     "metadata": {},
     "output_type": "execute_result"
    }
   ],
   "source": [
    "data2 = data.loc[:,[\"YEAR\", \"JUN_GT_500\", \"JUL_GT_500\", \"FLOODS\"]]\n",
    "data2"
   ]
  },
  {
   "cell_type": "code",
   "execution_count": 43,
   "id": "2ed79ccf-dc97-4091-b85d-727859718542",
   "metadata": {},
   "outputs": [
    {
     "data": {
      "text/html": [
       "<div>\n",
       "<style scoped>\n",
       "    .dataframe tbody tr th:only-of-type {\n",
       "        vertical-align: middle;\n",
       "    }\n",
       "\n",
       "    .dataframe tbody tr th {\n",
       "        vertical-align: top;\n",
       "    }\n",
       "\n",
       "    .dataframe thead th {\n",
       "        text-align: right;\n",
       "    }\n",
       "</style>\n",
       "<table border=\"1\" class=\"dataframe\">\n",
       "  <thead>\n",
       "    <tr style=\"text-align: right;\">\n",
       "      <th>FLOODS</th>\n",
       "      <th>False</th>\n",
       "      <th>True</th>\n",
       "      <th>Total</th>\n",
       "    </tr>\n",
       "    <tr>\n",
       "      <th>JUN_GT_500</th>\n",
       "      <th></th>\n",
       "      <th></th>\n",
       "      <th></th>\n",
       "    </tr>\n",
       "  </thead>\n",
       "  <tbody>\n",
       "    <tr>\n",
       "      <th>False</th>\n",
       "      <td>19</td>\n",
       "      <td>6</td>\n",
       "      <td>25</td>\n",
       "    </tr>\n",
       "    <tr>\n",
       "      <th>True</th>\n",
       "      <td>39</td>\n",
       "      <td>54</td>\n",
       "      <td>93</td>\n",
       "    </tr>\n",
       "    <tr>\n",
       "      <th>Total</th>\n",
       "      <td>58</td>\n",
       "      <td>60</td>\n",
       "      <td>118</td>\n",
       "    </tr>\n",
       "  </tbody>\n",
       "</table>\n",
       "</div>"
      ],
      "text/plain": [
       "FLOODS      False  True  Total\n",
       "JUN_GT_500                    \n",
       "False          19     6     25\n",
       "True           39    54     93\n",
       "Total          58    60    118"
      ]
     },
     "execution_count": 43,
     "metadata": {},
     "output_type": "execute_result"
    }
   ],
   "source": [
    "pd.crosstab(data2[\"JUN_GT_500\"], data2[\"FLOODS\"], margins = True, margins_name = \"Total\")"
   ]
  },
  {
   "cell_type": "code",
   "execution_count": 45,
   "id": "ccff599c-97fa-4475-8794-904e38de8614",
   "metadata": {},
   "outputs": [
    {
     "data": {
      "text/plain": [
       "0.788135593220339"
      ]
     },
     "execution_count": 45,
     "metadata": {},
     "output_type": "execute_result"
    }
   ],
   "source": [
    "# 3. Calculate the probability of flood given it rained more than 500 mm in June (P(A|B))\n",
    "\n",
    "p_j500 = 93/118\n",
    "p_j500"
   ]
  },
  {
   "cell_type": "code",
   "execution_count": 47,
   "id": "f1229974-ae86-4fd6-902c-197cbd957e09",
   "metadata": {},
   "outputs": [
    {
     "data": {
      "text/plain": [
       "0.4576271186440678"
      ]
     },
     "execution_count": 47,
     "metadata": {},
     "output_type": "execute_result"
    }
   ],
   "source": [
    "p_floodANDj500 = 54/118\n",
    "p_floodANDj500"
   ]
  },
  {
   "cell_type": "code",
   "execution_count": null,
   "id": "c124b310-9ab8-4e7c-bc63-c76dd6e35c60",
   "metadata": {},
   "outputs": [],
   "source": [
    "p_j500NOT = 25/118\n",
    "p_j500NOT"
   ]
  },
  {
   "cell_type": "code",
   "execution_count": 49,
   "id": "040df4bf-6a9a-44d8-8dfa-7b5f3f9bd9b5",
   "metadata": {},
   "outputs": [
    {
     "data": {
      "text/plain": [
       "0.05084745762711865"
      ]
     },
     "execution_count": 49,
     "metadata": {},
     "output_type": "execute_result"
    }
   ],
   "source": [
    "p_floodANDj500NOT = 6/118\n",
    "p_floodANDj500NOT"
   ]
  },
  {
   "cell_type": "code",
   "execution_count": 51,
   "id": "7898a21b-a1ee-4c09-a8bd-6a26af2e3c44",
   "metadata": {},
   "outputs": [
    {
     "data": {
      "text/plain": [
       "0.5806451612903226"
      ]
     },
     "execution_count": 51,
     "metadata": {},
     "output_type": "execute_result"
    }
   ],
   "source": [
    "p_floodGIVENj500 = p_floodANDj500/p_j500\n",
    "p_floodGIVENj500"
   ]
  },
  {
   "cell_type": "code",
   "execution_count": 53,
   "id": "46687cec-7233-4c40-b07d-d085fc6e42bc",
   "metadata": {},
   "outputs": [
    {
     "data": {
      "text/plain": [
       "0.5084745762711864"
      ]
     },
     "execution_count": 53,
     "metadata": {},
     "output_type": "execute_result"
    }
   ],
   "source": [
    "# 4. Calculate the probability of rain more than 500 mm in June, given it flooded that year (P(B|A))\n",
    "\n",
    "p_flood = 60/118\n",
    "p_flood"
   ]
  },
  {
   "cell_type": "code",
   "execution_count": 55,
   "id": "14c375e4-14f1-41dc-8705-d3b9b22c4b29",
   "metadata": {},
   "outputs": [
    {
     "data": {
      "text/plain": [
       "0.4576271186440678"
      ]
     },
     "execution_count": 55,
     "metadata": {},
     "output_type": "execute_result"
    }
   ],
   "source": [
    "P_j500ANDflood = 54/118\n",
    "P_j500ANDflood"
   ]
  },
  {
   "cell_type": "code",
   "execution_count": 57,
   "id": "450a3cb4-385e-4595-930d-cbef17b1ec43",
   "metadata": {},
   "outputs": [
    {
     "data": {
      "text/plain": [
       "0.9"
      ]
     },
     "execution_count": 57,
     "metadata": {},
     "output_type": "execute_result"
    }
   ],
   "source": [
    "p_j500GIVENflood = P_j500ANDflood/p_flood\n",
    "p_j500GIVENflood"
   ]
  },
  {
   "cell_type": "code",
   "execution_count": 63,
   "id": "04169621-611d-4a61-b8bf-46f3db744259",
   "metadata": {},
   "outputs": [
    {
     "data": {
      "text/html": [
       "<div>\n",
       "<style scoped>\n",
       "    .dataframe tbody tr th:only-of-type {\n",
       "        vertical-align: middle;\n",
       "    }\n",
       "\n",
       "    .dataframe tbody tr th {\n",
       "        vertical-align: top;\n",
       "    }\n",
       "\n",
       "    .dataframe thead th {\n",
       "        text-align: right;\n",
       "    }\n",
       "</style>\n",
       "<table border=\"1\" class=\"dataframe\">\n",
       "  <thead>\n",
       "    <tr style=\"text-align: right;\">\n",
       "      <th>FLOODS</th>\n",
       "      <th>False</th>\n",
       "      <th>True</th>\n",
       "      <th>Total</th>\n",
       "    </tr>\n",
       "    <tr>\n",
       "      <th>JUL_GT_500</th>\n",
       "      <th></th>\n",
       "      <th></th>\n",
       "      <th></th>\n",
       "    </tr>\n",
       "  </thead>\n",
       "  <tbody>\n",
       "    <tr>\n",
       "      <th>False</th>\n",
       "      <td>19</td>\n",
       "      <td>3</td>\n",
       "      <td>22</td>\n",
       "    </tr>\n",
       "    <tr>\n",
       "      <th>True</th>\n",
       "      <td>39</td>\n",
       "      <td>57</td>\n",
       "      <td>96</td>\n",
       "    </tr>\n",
       "    <tr>\n",
       "      <th>Total</th>\n",
       "      <td>58</td>\n",
       "      <td>60</td>\n",
       "      <td>118</td>\n",
       "    </tr>\n",
       "  </tbody>\n",
       "</table>\n",
       "</div>"
      ],
      "text/plain": [
       "FLOODS      False  True  Total\n",
       "JUL_GT_500                    \n",
       "False          19     3     22\n",
       "True           39    57     96\n",
       "Total          58    60    118"
      ]
     },
     "execution_count": 63,
     "metadata": {},
     "output_type": "execute_result"
    }
   ],
   "source": [
    "# 5. Probability of flood given it rained more than 500 mm in July\n",
    "\n",
    "pd.crosstab(data['JUL_GT_500'],data[\"FLOODS\"], margins=True, margins_name='Total')"
   ]
  },
  {
   "cell_type": "code",
   "execution_count": 65,
   "id": "3fb723e9-dc7b-4716-87fa-723ce30669a4",
   "metadata": {},
   "outputs": [
    {
     "data": {
      "text/plain": [
       "0.8135593220338984"
      ]
     },
     "execution_count": 65,
     "metadata": {},
     "output_type": "execute_result"
    }
   ],
   "source": [
    "p_jl500 = 96/118\n",
    "p_jl500"
   ]
  },
  {
   "cell_type": "code",
   "execution_count": 67,
   "id": "2f8d60f6-486c-48da-9a3d-89ad1766b8ef",
   "metadata": {},
   "outputs": [
    {
     "data": {
      "text/plain": [
       "0.4830508474576271"
      ]
     },
     "execution_count": 67,
     "metadata": {},
     "output_type": "execute_result"
    }
   ],
   "source": [
    "p_floodANDjl500 = 57/118\n",
    "p_floodANDjl500"
   ]
  },
  {
   "cell_type": "code",
   "execution_count": 69,
   "id": "0836c47e-930c-4b7d-8ec4-69cc9c94034d",
   "metadata": {},
   "outputs": [
    {
     "data": {
      "text/plain": [
       "0.59375"
      ]
     },
     "execution_count": 69,
     "metadata": {},
     "output_type": "execute_result"
    }
   ],
   "source": [
    "p_floodGIVENjl500 = p_floodANDjl500/p_jl500\n",
    "p_floodGIVENjl500"
   ]
  },
  {
   "cell_type": "code",
   "execution_count": 71,
   "id": "f91c6c5f-e8ba-4a6d-88e1-5f19906f7f2f",
   "metadata": {},
   "outputs": [
    {
     "data": {
      "text/plain": [
       "0.1864406779661017"
      ]
     },
     "execution_count": 71,
     "metadata": {},
     "output_type": "execute_result"
    }
   ],
   "source": [
    "# 6. Probability of rain of more than 500 mm in July given it flooded that year (P(B|A))  ----Bayes Theorem\n",
    "\n",
    "p_jl500NOT = 22/118\n",
    "p_jl500NOT"
   ]
  },
  {
   "cell_type": "code",
   "execution_count": 73,
   "id": "78e9a22f-4df4-4b0a-bd31-595f6c71b917",
   "metadata": {},
   "outputs": [
    {
     "data": {
      "text/plain": [
       "0.025423728813559324"
      ]
     },
     "execution_count": 73,
     "metadata": {},
     "output_type": "execute_result"
    }
   ],
   "source": [
    "p_floodANDjl500NOT = 3/118\n",
    "p_floodANDjl500NOT"
   ]
  },
  {
   "cell_type": "code",
   "execution_count": 77,
   "id": "6c48ef5d-0ea3-4a68-83be-fc28906adca0",
   "metadata": {},
   "outputs": [
    {
     "data": {
      "text/plain": [
       "0.13636363636363638"
      ]
     },
     "execution_count": 77,
     "metadata": {},
     "output_type": "execute_result"
    }
   ],
   "source": [
    "p_floodGIVENjl500not = p_floodANDjl500NOT/p_jl500NOT\n",
    "p_floodGIVENjl500not"
   ]
  },
  {
   "cell_type": "code",
   "execution_count": 81,
   "id": "cfd6c0f3-536d-4af3-bdd5-dee50665bf45",
   "metadata": {},
   "outputs": [
    {
     "data": {
      "text/plain": [
       "0.95"
      ]
     },
     "execution_count": 81,
     "metadata": {},
     "output_type": "execute_result"
    }
   ],
   "source": [
    "p_bayes = p_jl500*p_floodGIVENjl500/(p_jl500*p_floodGIVENjl500+p_jl500NOT*p_floodGIVENjl500not)\n",
    "p_bayes"
   ]
  }
 ],
 "metadata": {
  "kernelspec": {
   "display_name": "Python 3 (ipykernel)",
   "language": "python",
   "name": "python3"
  },
  "language_info": {
   "codemirror_mode": {
    "name": "ipython",
    "version": 3
   },
   "file_extension": ".py",
   "mimetype": "text/x-python",
   "name": "python",
   "nbconvert_exporter": "python",
   "pygments_lexer": "ipython3",
   "version": "3.12.4"
  }
 },
 "nbformat": 4,
 "nbformat_minor": 5
}
